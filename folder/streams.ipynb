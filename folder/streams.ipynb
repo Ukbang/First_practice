{
 "cells": [
  {
   "cell_type": "code",
   "execution_count": null,
   "metadata": {},
   "outputs": [],
   "source": [
    "input = int(input())"
   ]
  },
  {
   "cell_type": "code",
   "execution_count": null,
   "metadata": {},
   "outputs": [],
   "source": [
    "pocket_numbers = [1, 2, 3, 4, 5, 6, 7, 8, 9, 10, 11, 11, 12, 12, 13, 13, 14, 14, 15, 15, 16, 16, 17, 17, 18, 18, 19, 19, 20, 21, 22, 23, 24, 25, 26, 27, 28, 29, 30]"
   ]
  },
  {
   "cell_type": "code",
   "execution_count": 18,
   "metadata": {},
   "outputs": [],
   "source": [
    "a = 10/39\n",
    "b = 20"
   ]
  },
  {
   "cell_type": "code",
   "execution_count": 22,
   "metadata": {},
   "outputs": [
    {
     "data": {
      "text/plain": [
       "5"
      ]
     },
     "execution_count": 22,
     "metadata": {},
     "output_type": "execute_result"
    }
   ],
   "source": [
    "int(round(b*a, 0))"
   ]
  },
  {
   "cell_type": "code",
   "execution_count": 29,
   "metadata": {},
   "outputs": [],
   "source": [
    "result = [0]*20"
   ]
  },
  {
   "cell_type": "code",
   "execution_count": 30,
   "metadata": {},
   "outputs": [],
   "source": [
    "result[9]=23"
   ]
  },
  {
   "cell_type": "code",
   "execution_count": 31,
   "metadata": {},
   "outputs": [],
   "source": [
    "result[12]=28"
   ]
  },
  {
   "cell_type": "code",
   "execution_count": 32,
   "metadata": {},
   "outputs": [
    {
     "data": {
      "text/plain": [
       "[0, 0, 0, 0, 0, 0, 0, 0, 0, 23, 0, 0, 28, 0, 0, 0, 0, 0, 0, 0]"
      ]
     },
     "execution_count": 32,
     "metadata": {},
     "output_type": "execute_result"
    }
   ],
   "source": [
    "result"
   ]
  },
  {
   "cell_type": "code",
   "execution_count": 34,
   "metadata": {},
   "outputs": [],
   "source": [
    "def filter_list(num):\n",
    "    return num > 0"
   ]
  },
  {
   "cell_type": "code",
   "execution_count": 35,
   "metadata": {},
   "outputs": [],
   "source": [
    "not_zero = list(filter(filter_list, result))"
   ]
  },
  {
   "cell_type": "code",
   "execution_count": 36,
   "metadata": {},
   "outputs": [
    {
     "name": "stdout",
     "output_type": "stream",
     "text": [
      "[23, 28]\n"
     ]
    }
   ],
   "source": []
  },
  {
   "cell_type": "code",
   "execution_count": null,
   "metadata": {},
   "outputs": [],
   "source": [
    "10 result[5] = 10"
   ]
  },
  {
   "cell_type": "code",
   "execution_count": null,
   "metadata": {},
   "outputs": [],
   "source": [
    "class streams:\n",
    "    def __init__(self):\n",
    "        self.score_dict = {1:0, 2:1, 3:3, 4:5, 5:7, 6:9, 7:11, 8:15, 9:20, 10:25, \n",
    "                  11:30, 12:35, 13:40, 14:50, 15:60, 16:70, 17:85, 18:100, 19: 150, 20:300}\n",
    "        self.result = [0]*20\n",
    "        self.total = 39\n",
    "        self.pre_num = 0\n",
    "        self.next_num = 0  \n",
    "\n",
    "    def first_check(first_input):\n",
    "        o_to_t = 10/self.total\n",
    "        e_to_n = 18/self.total\n",
    "        t_to_t = 11/self.total\n",
    "\n",
    "        if 0 < first_input <= 10:\n",
    "\n",
    "        elif 11 <= first_input <= 19:\n",
    "\n",
    "        else:\n",
    "    \n",
    "    def filter_list(num):\n",
    "        return num > 0\n",
    "\n",
    "    def distance(not_zero, input):\n",
    "        not_zero.append(input).sort()\n",
    "        if len(not_zero) >= 3:\n",
    "            self.pre_num = abs(not_zero[not_zero.index(input)-1] - not_zero[not_zero.index(input)])\n",
    "            self.next_num = abs(not_zero[not_zero.index(input)+1] - not_zero[not_zero.index(input)])\n",
    "\n",
    "    def input_check(input):\n",
    "        //최초 자리에 대한 조건이 필요함 \n",
    "        \n",
    "        while 0 in result:\n",
    "            not_zero = list(filter(self.filter_list, self.result))\n",
    "            not_zero.append(input).sort()\n",
    "            self.distance(not_zero, input)\n",
    "            if len(result[result.index(self.pre_num)+1:result.index(self.next_num)]) == 1:\n",
    "                result[result.index(self.next_num)-1] = input\n"
   ]
  },
  {
   "cell_type": "code",
   "execution_count": null,
   "metadata": {},
   "outputs": [],
   "source": [
    "def input_check(input):\n",
    "    score_dict = {1:0, 2:1, 3:3, 4:5, 5:7, 6:9, 7:11, 8:15, 9:20, 10:25, \n",
    "                  11:30, 12:35, 13:40, 14:50, 15:60, 16:70, 17:85, 18:100, 19: 150, 20:300}\n",
    "    result = [0]*20\n"
   ]
  }
 ],
 "metadata": {
  "kernelspec": {
   "display_name": "LMS",
   "language": "python",
   "name": "python3"
  },
  "language_info": {
   "codemirror_mode": {
    "name": "ipython",
    "version": 3
   },
   "file_extension": ".py",
   "mimetype": "text/x-python",
   "name": "python",
   "nbconvert_exporter": "python",
   "pygments_lexer": "ipython3",
   "version": "3.9.7"
  },
  "orig_nbformat": 4
 },
 "nbformat": 4,
 "nbformat_minor": 2
}
