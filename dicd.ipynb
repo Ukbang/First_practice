Coding
from random import randint

class FunnyDice:
    def __init__(self, n = 6)
        self.n = n
